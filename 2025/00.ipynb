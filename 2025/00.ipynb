{
 "cells": [
  {
   "cell_type": "code",
   "execution_count": 3,
   "metadata": {},
   "outputs": [],
   "source": [
    "import os\n",
    "import tqdm\n",
    "import pandas as pd\n",
    "from pymongo import MongoClient"
   ]
  },
  {
   "cell_type": "code",
   "execution_count": 4,
   "metadata": {},
   "outputs": [],
   "source": [
    "db = MongoClient(\"mongodb://localhost:27017\")['tree2']\n",
    "predation = db.predation\n",
    "summary = db.summary"
   ]
  },
  {
   "cell_type": "code",
   "execution_count": 5,
   "metadata": {},
   "outputs": [],
   "source": [
    "data_path = '../data/20241229-compressed'"
   ]
  },
  {
   "cell_type": "code",
   "execution_count": 6,
   "metadata": {},
   "outputs": [],
   "source": [
    "predation_files = []\n",
    "summary_files = []\n",
    "\n",
    "for root, dirs, files in os.walk(data_path):\n",
    "    for file in files:\n",
    "        if 'predation' in file.lower():\n",
    "            predation_files.append(os.path.join(root, file))\n",
    "        if 'summary' in file.lower():\n",
    "            summary_files.append(os.path.join(root, file))"
   ]
  },
  {
   "cell_type": "code",
   "execution_count": 11,
   "metadata": {},
   "outputs": [],
   "source": [
    "def read_and_save_file(file):\n",
    "    if file.endswith('.csv'):\n",
    "        df = pd.read_csv(file)\n",
    "        if 'ID' in df.columns:\n",
    "            df.rename(columns={'ID': '_id'}, inplace=True)\n",
    "        if 'predation' in file.lower():\n",
    "            predation.insert_many(df.to_dict('records'))\n",
    "        elif 'summary' in file.lower():\n",
    "            summary.insert_many(df.to_dict('records'))\n",
    "        else:\n",
    "            raise ValueError(f\"Unsupported file class: {file}\")\n",
    "    else:\n",
    "        raise ValueError(f\"Unsupported file format: {file}\")"
   ]
  },
  {
   "cell_type": "code",
   "execution_count": 12,
   "metadata": {},
   "outputs": [
    {
     "name": "stderr",
     "output_type": "stream",
     "text": [
      "100%|██████████| 32/32 [27:24<00:00, 51.38s/it]  \n"
     ]
    }
   ],
   "source": [
    "for file in tqdm.tqdm(predation_files + summary_files):\n",
    "    read_and_save_file(file)"
   ]
  },
  {
   "cell_type": "code",
   "execution_count": null,
   "metadata": {},
   "outputs": [],
   "source": []
  },
  {
   "cell_type": "code",
   "execution_count": null,
   "metadata": {},
   "outputs": [],
   "source": []
  }
 ],
 "metadata": {
  "kernelspec": {
   "display_name": ".venv",
   "language": "python",
   "name": "python3"
  },
  "language_info": {
   "codemirror_mode": {
    "name": "ipython",
    "version": 3
   },
   "file_extension": ".py",
   "mimetype": "text/x-python",
   "name": "python",
   "nbconvert_exporter": "python",
   "pygments_lexer": "ipython3",
   "version": "3.10.12"
  }
 },
 "nbformat": 4,
 "nbformat_minor": 2
}
