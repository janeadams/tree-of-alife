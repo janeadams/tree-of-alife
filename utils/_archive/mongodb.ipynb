{
 "cells": [
  {
   "cell_type": "markdown",
   "metadata": {},
   "source": [
    "Start mongodb with `sudo systemctl start mongod`"
   ]
  },
  {
   "cell_type": "code",
   "execution_count": 2,
   "metadata": {},
   "outputs": [],
   "source": [
    "import tqdm\n",
    "from utils.eda import *"
   ]
  },
  {
   "cell_type": "code",
   "execution_count": 3,
   "metadata": {},
   "outputs": [
    {
     "name": "stdout",
     "output_type": "stream",
     "text": [
      "Loading sample of size all...\n"
     ]
    }
   ],
   "source": [
    "df = load_sample(size='all')"
   ]
  },
  {
   "cell_type": "code",
   "execution_count": 4,
   "metadata": {},
   "outputs": [],
   "source": [
    "df['created'] = pd.to_datetime(df['created'], unit='D')"
   ]
  },
  {
   "cell_type": "code",
   "execution_count": 5,
   "metadata": {},
   "outputs": [],
   "source": [
    "from pymongo import MongoClient\n",
    "\n",
    "db = MongoClient(\"mongodb://localhost:27017\")['tree']\n",
    "animals = db.animals"
   ]
  },
  {
   "cell_type": "code",
   "execution_count": 6,
   "metadata": {},
   "outputs": [],
   "source": [
    "#for i, row in df.iterrows(): animals.insert_one(row.to_dict())"
   ]
  },
  {
   "cell_type": "code",
   "execution_count": 7,
   "metadata": {},
   "outputs": [
    {
     "name": "stderr",
     "output_type": "stream",
     "text": [
      "0it [00:00, ?it/s]"
     ]
    },
    {
     "name": "stderr",
     "output_type": "stream",
     "text": [
      "34112456it [2:48:58, 3364.50it/s]\n"
     ]
    }
   ],
   "source": [
    "for item in tqdm.tqdm(animals.find()):\n",
    "    if not item.get('parent_id'):\n",
    "        #print(f'Finding parent and children for {item[\"ID\"]}')\n",
    "        parent = animals.find_one({'ID': item['parent']})\n",
    "        if parent:\n",
    "            #print(f'Parent found: {parent[\"ID\"]}')\n",
    "            parent_id = parent['_id']\n",
    "            animals.update_many({'_id': item['_id']}, {'$set': {'parent_id': parent_id}})\n",
    "    if not item.get('children_ids'):\n",
    "        children = [child for child in animals.find({'parent': item['ID']})]\n",
    "        if len(children) > 0:\n",
    "            #print(item['ID'], [child['ID'] for child in children])\n",
    "            children_ids = [child[\"_id\"] for child in children]\n",
    "            animals.update_many({'_id': item['_id']}, {'$set': {'children_ids': children_ids}})"
   ]
  },
  {
   "cell_type": "code",
   "execution_count": null,
   "metadata": {},
   "outputs": [],
   "source": [
    "for item in tqdm.tqdm(animals.find(), len(animals.find())):\n",
    "    # Determine if this is a leaf node\n",
    "    if not item.get('is_leaf'):\n",
    "        children = animals.find({'parent': item['ID']})\n",
    "        if len(list(children)) == 0:\n",
    "            animals.update_many({'_id': item['_id']}, {'$set': {'is_leaf': True}})"
   ]
  },
  {
   "cell_type": "markdown",
   "metadata": {},
   "source": [
    "# Remove elements with a duplicate ID\n",
    "for item in animals.find():\n",
    "    if animals.find({'ID': item['ID']}).count() > 1:\n",
    "        print(f'Removing duplicate ID {item[\"ID\"]}')\n",
    "        animals.delete_one({'ID': item['ID']})"
   ]
  }
 ],
 "metadata": {
  "kernelspec": {
   "display_name": ".venv",
   "language": "python",
   "name": "python3"
  },
  "language_info": {
   "codemirror_mode": {
    "name": "ipython",
    "version": 3
   },
   "file_extension": ".py",
   "mimetype": "text/x-python",
   "name": "python",
   "nbconvert_exporter": "python",
   "pygments_lexer": "ipython3",
   "version": "3.10.12"
  }
 },
 "nbformat": 4,
 "nbformat_minor": 2
}
