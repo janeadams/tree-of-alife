{
 "cells": [
  {
   "cell_type": "code",
   "execution_count": null,
   "metadata": {},
   "outputs": [],
   "source": [
    "import pandas as pd\n",
    "import plotly.express as px\n",
    "import plotly.graph_objs as go\n",
    "from sklearn.cluster import KMeans"
   ]
  },
  {
   "cell_type": "code",
   "execution_count": null,
   "metadata": {},
   "outputs": [],
   "source": [
    "df = pd.read_csv('pickles/biased_df.csv')\n",
    "df = df.sample(frac=0.1).reset_index(drop=True)"
   ]
  },
  {
   "cell_type": "code",
   "execution_count": null,
   "metadata": {},
   "outputs": [],
   "source": [
    "# Use the elbow method to find the optimal number of clusters\n",
    "X = df[['lifeSpan', 'speed', 'maxEnergy', 'kidEnergy', 'sensors', 'nkids', 'pgmDeath']]\n",
    "wcss = []\n",
    "for i in range(1, 11):\n",
    "    kmeans = KMeans(n_clusters=i, init='k-means++', max_iter=300, n_init=10, random_state=0)\n",
    "    kmeans.fit(X)\n",
    "    wcss.append(kmeans.inertia_)"
   ]
  },
  {
   "cell_type": "code",
   "execution_count": null,
   "metadata": {},
   "outputs": [],
   "source": [
    "fig = px.line(x=range(1, 11), y=wcss, title='Elbow Method', template='plotly_dark', width=500)\n",
    "fig.show()"
   ]
  },
  {
   "cell_type": "code",
   "execution_count": null,
   "metadata": {},
   "outputs": [],
   "source": [
    "kmeans = KMeans(n_clusters=6, init='k-means++', max_iter=300, n_init=10, random_state=0)\n",
    "y_kmeans = kmeans.fit_predict(X)\n",
    "df['cluster'] = y_kmeans\n",
    "df.to_csv('pickles/clustered_df.csv', index=False)"
   ]
  },
  {
   "cell_type": "code",
   "execution_count": null,
   "metadata": {},
   "outputs": [],
   "source": [
    "# Determine x/y location from PCA:\n",
    "from sklearn.decomposition import PCA\n",
    "pca = PCA(n_components=2)\n",
    "X_pca = pca.fit_transform(X)\n",
    "df['x'] = X_pca[:, 0]\n",
    "df['y'] = X_pca[:, 1]\n",
    "df['created_alpha'] = (df['created'] / df['created'].max())/10\n",
    "df['color'] = df['cluster'].map({0: 'salmon', 1: 'greenyellow', 2: 'dodgerblue', 3: 'darkorange', 4: 'purple', 5: 'cyan'})\n",
    "df['size'] = df['lifeSpan'] / df['lifeSpan'].max() * 10"
   ]
  },
  {
   "cell_type": "code",
   "execution_count": null,
   "metadata": {},
   "outputs": [],
   "source": [
    "df.head(5)"
   ]
  },
  {
   "cell_type": "code",
   "execution_count": null,
   "metadata": {},
   "outputs": [],
   "source": [
    "df['era'] = df['created'].apply(lambda x: int(x/1000))"
   ]
  },
  {
   "cell_type": "code",
   "execution_count": null,
   "metadata": {},
   "outputs": [],
   "source": [
    "# Animate by era:\n",
    "fig = go.Figure()\n",
    "for era in df['era'].unique():\n",
    "    df_era = df[df['era'] == era]\n",
    "    fig.add_trace(go.Scatter(x=df_era['x'], y=df_era['y'], mode='markers', marker=dict(color=df_era['color'], size=df_era['size'], opacity=0.5), name=str(era)))\n",
    "fig.update_layout(\n",
    "    updatemenus=[\n",
    "        dict(\n",
    "            type='buttons',\n",
    "            showactive=False,\n",
    "            buttons=[dict(label='Play',\n",
    "                           method='animate',\n",
    "                           args=[None, dict(frame=dict(duration=500, redraw=True), fromcurrent=True, mode='immediate')])]\n",
    "        )\n",
    "    ]\n",
    ")\n",
    "fig.update_layout(\n",
    "    title='KMeans Clustering of Creatures',\n",
    "    template='plotly_dark',\n",
    "    xaxis=dict(title='PCA1'),\n",
    "    yaxis=dict(title='PCA2'),\n",
    "    showlegend=False,\n",
    "    width=800,\n",
    "    height=800\n",
    ")\n",
    "fig.show()"
   ]
  },
  {
   "cell_type": "code",
   "execution_count": null,
   "metadata": {},
   "outputs": [],
   "source": []
  }
 ],
 "metadata": {
  "kernelspec": {
   "display_name": ".venv",
   "language": "python",
   "name": "python3"
  },
  "language_info": {
   "codemirror_mode": {
    "name": "ipython",
    "version": 3
   },
   "file_extension": ".py",
   "mimetype": "text/x-python",
   "name": "python",
   "nbconvert_exporter": "python",
   "pygments_lexer": "ipython3",
   "version": "3.10.12"
  }
 },
 "nbformat": 4,
 "nbformat_minor": 2
}
