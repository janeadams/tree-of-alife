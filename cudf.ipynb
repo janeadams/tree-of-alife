{
 "cells": [
  {
   "cell_type": "code",
   "execution_count": 30,
   "metadata": {},
   "outputs": [
    {
     "ename": "ModuleNotFoundError",
     "evalue": "No module named 'cudf'",
     "output_type": "error",
     "traceback": [
      "\u001b[0;31m---------------------------------------------------------------------------\u001b[0m",
      "\u001b[0;31mModuleNotFoundError\u001b[0m                       Traceback (most recent call last)",
      "Cell \u001b[0;32mIn[30], line 1\u001b[0m\n\u001b[0;32m----> 1\u001b[0m \u001b[38;5;28;01mimport\u001b[39;00m \u001b[38;5;21;01mcudf\u001b[39;00m\n",
      "\u001b[0;31mModuleNotFoundError\u001b[0m: No module named 'cudf'"
     ]
    }
   ],
   "source": [
    "import cudf"
   ]
  },
  {
   "cell_type": "code",
   "execution_count": 36,
   "metadata": {},
   "outputs": [
    {
     "name": "stdout",
     "output_type": "stream",
     "text": [
      "Looking in indexes: https://pypi.org/simple, https://pypi.nvidia.com\n",
      "Collecting cudf-cu12==24.6.*\n",
      "  Using cached cudf_cu12-24.6.0.tar.gz (2.6 kB)\n",
      "  Installing build dependencies ... \u001b[?25ldone\n",
      "\u001b[?25h  Getting requirements to build wheel ... \u001b[?25ldone\n",
      "\u001b[?25h  Preparing metadata (pyproject.toml) ... \u001b[?25ldone\n",
      "\u001b[?25hCollecting dask-cudf-cu12==24.6.*\n",
      "  Using cached https://pypi.nvidia.com/dask-cudf-cu12/dask_cudf_cu12-24.6.0-py3-none-any.whl (51 kB)\n",
      "Collecting cuml-cu12==24.6.*\n",
      "  Downloading cuml_cu12-24.6.1.tar.gz (2.1 kB)\n",
      "  Installing build dependencies ... \u001b[?25ldone\n",
      "\u001b[?25h  Getting requirements to build wheel ... \u001b[?25ldone\n",
      "\u001b[?25h  Preparing metadata (pyproject.toml) ... \u001b[?25lerror\n",
      "  \u001b[1;31merror\u001b[0m: \u001b[1msubprocess-exited-with-error\u001b[0m\n",
      "  \n",
      "  \u001b[31m×\u001b[0m \u001b[32mPreparing metadata \u001b[0m\u001b[1;32m(\u001b[0m\u001b[32mpyproject.toml\u001b[0m\u001b[1;32m)\u001b[0m did not run successfully.\n",
      "  \u001b[31m│\u001b[0m exit code: \u001b[1;36m1\u001b[0m\n",
      "  \u001b[31m╰─>\u001b[0m \u001b[31m[40 lines of output]\u001b[0m\n",
      "  \u001b[31m   \u001b[0m Traceback (most recent call last):\n",
      "  \u001b[31m   \u001b[0m   File \"/home/janeadams/projects/tree-of-alife/.venv/lib/python3.12/site-packages/pip/_vendor/pyproject_hooks/_in_process/_in_process.py\", line 353, in <module>\n",
      "  \u001b[31m   \u001b[0m     main()\n",
      "  \u001b[31m   \u001b[0m   File \"/home/janeadams/projects/tree-of-alife/.venv/lib/python3.12/site-packages/pip/_vendor/pyproject_hooks/_in_process/_in_process.py\", line 335, in main\n",
      "  \u001b[31m   \u001b[0m     json_out['return_val'] = hook(**hook_input['kwargs'])\n",
      "  \u001b[31m   \u001b[0m                              ^^^^^^^^^^^^^^^^^^^^^^^^^^^^\n",
      "  \u001b[31m   \u001b[0m   File \"/home/janeadams/projects/tree-of-alife/.venv/lib/python3.12/site-packages/pip/_vendor/pyproject_hooks/_in_process/_in_process.py\", line 152, in prepare_metadata_for_build_wheel\n",
      "  \u001b[31m   \u001b[0m     whl_basename = backend.build_wheel(metadata_directory, config_settings)\n",
      "  \u001b[31m   \u001b[0m                    ^^^^^^^^^^^^^^^^^^^^^^^^^^^^^^^^^^^^^^^^^^^^^^^^^^^^^^^^\n",
      "  \u001b[31m   \u001b[0m   File \"/tmp/pip-build-env-1nn9hwer/overlay/lib/python3.12/site-packages/nvidia_stub/buildapi.py\", line 29, in build_wheel\n",
      "  \u001b[31m   \u001b[0m     return download_wheel(pathlib.Path(wheel_directory), config_settings)\n",
      "  \u001b[31m   \u001b[0m            ^^^^^^^^^^^^^^^^^^^^^^^^^^^^^^^^^^^^^^^^^^^^^^^^^^^^^^^^^^^^^^\n",
      "  \u001b[31m   \u001b[0m   File \"/tmp/pip-build-env-1nn9hwer/overlay/lib/python3.12/site-packages/nvidia_stub/wheel.py\", line 145, in download_wheel\n",
      "  \u001b[31m   \u001b[0m     report_install_failure(distribution, version, None)\n",
      "  \u001b[31m   \u001b[0m   File \"/tmp/pip-build-env-1nn9hwer/overlay/lib/python3.12/site-packages/nvidia_stub/error.py\", line 63, in report_install_failure\n",
      "  \u001b[31m   \u001b[0m     raise InstallFailedError(\n",
      "  \u001b[31m   \u001b[0m nvidia_stub.error.InstallFailedError:\n",
      "  \u001b[31m   \u001b[0m *******************************************************************************\n",
      "  \u001b[31m   \u001b[0m \n",
      "  \u001b[31m   \u001b[0m The installation of cuml-cu12 for version 24.6.1 failed.\n",
      "  \u001b[31m   \u001b[0m \n",
      "  \u001b[31m   \u001b[0m This is a special placeholder package which downloads a real wheel package\n",
      "  \u001b[31m   \u001b[0m from https://pypi.nvidia.com. If https://pypi.nvidia.com is not reachable, we\n",
      "  \u001b[31m   \u001b[0m cannot download the real wheel file to install.\n",
      "  \u001b[31m   \u001b[0m \n",
      "  \u001b[31m   \u001b[0m You might try installing this package via\n",
      "  \u001b[31m   \u001b[0m ```\n",
      "  \u001b[31m   \u001b[0m $ pip install --extra-index-url https://pypi.nvidia.com cuml-cu12\n",
      "  \u001b[31m   \u001b[0m ```\n",
      "  \u001b[31m   \u001b[0m \n",
      "  \u001b[31m   \u001b[0m Here is some debug information about your platform to include in any bug\n",
      "  \u001b[31m   \u001b[0m report:\n",
      "  \u001b[31m   \u001b[0m \n",
      "  \u001b[31m   \u001b[0m Python Version: CPython 3.12.3\n",
      "  \u001b[31m   \u001b[0m Operating System: Linux 5.15.153.1-microsoft-standard-WSL2\n",
      "  \u001b[31m   \u001b[0m CPU Architecture: x86_64\n",
      "  \u001b[31m   \u001b[0m nvidia-smi command not found. Ensure NVIDIA drivers are installed.\n",
      "  \u001b[31m   \u001b[0m \n",
      "  \u001b[31m   \u001b[0m *******************************************************************************\n",
      "  \u001b[31m   \u001b[0m \n",
      "  \u001b[31m   \u001b[0m \u001b[31m[end of output]\u001b[0m\n",
      "  \n",
      "  \u001b[1;35mnote\u001b[0m: This error originates from a subprocess, and is likely not a problem with pip.\n",
      "\u001b[?25h\u001b[1;31merror\u001b[0m: \u001b[1mmetadata-generation-failed\u001b[0m\n",
      "\n",
      "\u001b[31m×\u001b[0m Encountered error while generating package metadata.\n",
      "\u001b[31m╰─>\u001b[0m See above for output.\n",
      "\n",
      "\u001b[1;35mnote\u001b[0m: This is an issue with the package mentioned above, not pip.\n",
      "\u001b[1;36mhint\u001b[0m: See above for details.\n"
     ]
    }
   ],
   "source": [
    "!pip install --extra-index-url=https://pypi.nvidia.com \\\n",
    "    \"cudf-cu12==24.6.*\" \"dask-cudf-cu12==24.6.*\" \"cuml-cu12==24.6.*\" \\\n",
    "    \"cugraph-cu12==24.6.*\" \"cuspatial-cu12==24.6.*\" \"cuproj-cu12==24.6.*\" \\\n",
    "    \"cuxfilter-cu12==24.6.*\" \"cucim-cu12==24.6.*\" \"pylibraft-cu12==24.6.*\" \\\n",
    "    \"raft-dask-cu12==24.6.*\" \"cuvs-cu12==24.6.*\""
   ]
  },
  {
   "cell_type": "code",
   "execution_count": 37,
   "metadata": {},
   "outputs": [
    {
     "name": "stdout",
     "output_type": "stream",
     "text": [
      "Looking in indexes: https://pypi.org/simple, https://pypi.nvidia.com\n",
      "Collecting cuml-cu12\n",
      "  Using cached cuml_cu12-24.6.1.tar.gz (2.1 kB)\n",
      "  Installing build dependencies ... \u001b[?25ldone\n",
      "\u001b[?25h  Getting requirements to build wheel ... \u001b[?25ldone\n",
      "\u001b[?25h  Preparing metadata (pyproject.toml) ... \u001b[?25lerror\n",
      "  \u001b[1;31merror\u001b[0m: \u001b[1msubprocess-exited-with-error\u001b[0m\n",
      "  \n",
      "  \u001b[31m×\u001b[0m \u001b[32mPreparing metadata \u001b[0m\u001b[1;32m(\u001b[0m\u001b[32mpyproject.toml\u001b[0m\u001b[1;32m)\u001b[0m did not run successfully.\n",
      "  \u001b[31m│\u001b[0m exit code: \u001b[1;36m1\u001b[0m\n",
      "  \u001b[31m╰─>\u001b[0m \u001b[31m[40 lines of output]\u001b[0m\n",
      "  \u001b[31m   \u001b[0m Traceback (most recent call last):\n",
      "  \u001b[31m   \u001b[0m   File \"/home/janeadams/projects/tree-of-alife/.venv/lib/python3.12/site-packages/pip/_vendor/pyproject_hooks/_in_process/_in_process.py\", line 353, in <module>\n",
      "  \u001b[31m   \u001b[0m     main()\n",
      "  \u001b[31m   \u001b[0m   File \"/home/janeadams/projects/tree-of-alife/.venv/lib/python3.12/site-packages/pip/_vendor/pyproject_hooks/_in_process/_in_process.py\", line 335, in main\n",
      "  \u001b[31m   \u001b[0m     json_out['return_val'] = hook(**hook_input['kwargs'])\n",
      "  \u001b[31m   \u001b[0m                              ^^^^^^^^^^^^^^^^^^^^^^^^^^^^\n",
      "  \u001b[31m   \u001b[0m   File \"/home/janeadams/projects/tree-of-alife/.venv/lib/python3.12/site-packages/pip/_vendor/pyproject_hooks/_in_process/_in_process.py\", line 152, in prepare_metadata_for_build_wheel\n",
      "  \u001b[31m   \u001b[0m     whl_basename = backend.build_wheel(metadata_directory, config_settings)\n",
      "  \u001b[31m   \u001b[0m                    ^^^^^^^^^^^^^^^^^^^^^^^^^^^^^^^^^^^^^^^^^^^^^^^^^^^^^^^^\n",
      "  \u001b[31m   \u001b[0m   File \"/tmp/pip-build-env-mqbdkkvz/overlay/lib/python3.12/site-packages/nvidia_stub/buildapi.py\", line 29, in build_wheel\n",
      "  \u001b[31m   \u001b[0m     return download_wheel(pathlib.Path(wheel_directory), config_settings)\n",
      "  \u001b[31m   \u001b[0m            ^^^^^^^^^^^^^^^^^^^^^^^^^^^^^^^^^^^^^^^^^^^^^^^^^^^^^^^^^^^^^^\n",
      "  \u001b[31m   \u001b[0m   File \"/tmp/pip-build-env-mqbdkkvz/overlay/lib/python3.12/site-packages/nvidia_stub/wheel.py\", line 145, in download_wheel\n",
      "  \u001b[31m   \u001b[0m     report_install_failure(distribution, version, None)\n",
      "  \u001b[31m   \u001b[0m   File \"/tmp/pip-build-env-mqbdkkvz/overlay/lib/python3.12/site-packages/nvidia_stub/error.py\", line 63, in report_install_failure\n",
      "  \u001b[31m   \u001b[0m     raise InstallFailedError(\n",
      "  \u001b[31m   \u001b[0m nvidia_stub.error.InstallFailedError:\n",
      "  \u001b[31m   \u001b[0m *******************************************************************************\n",
      "  \u001b[31m   \u001b[0m \n",
      "  \u001b[31m   \u001b[0m The installation of cuml-cu12 for version 24.6.1 failed.\n",
      "  \u001b[31m   \u001b[0m \n",
      "  \u001b[31m   \u001b[0m This is a special placeholder package which downloads a real wheel package\n",
      "  \u001b[31m   \u001b[0m from https://pypi.nvidia.com. If https://pypi.nvidia.com is not reachable, we\n",
      "  \u001b[31m   \u001b[0m cannot download the real wheel file to install.\n",
      "  \u001b[31m   \u001b[0m \n",
      "  \u001b[31m   \u001b[0m You might try installing this package via\n",
      "  \u001b[31m   \u001b[0m ```\n",
      "  \u001b[31m   \u001b[0m $ pip install --extra-index-url https://pypi.nvidia.com cuml-cu12\n",
      "  \u001b[31m   \u001b[0m ```\n",
      "  \u001b[31m   \u001b[0m \n",
      "  \u001b[31m   \u001b[0m Here is some debug information about your platform to include in any bug\n",
      "  \u001b[31m   \u001b[0m report:\n",
      "  \u001b[31m   \u001b[0m \n",
      "  \u001b[31m   \u001b[0m Python Version: CPython 3.12.3\n",
      "  \u001b[31m   \u001b[0m Operating System: Linux 5.15.153.1-microsoft-standard-WSL2\n",
      "  \u001b[31m   \u001b[0m CPU Architecture: x86_64\n",
      "  \u001b[31m   \u001b[0m nvidia-smi command not found. Ensure NVIDIA drivers are installed.\n",
      "  \u001b[31m   \u001b[0m \n",
      "  \u001b[31m   \u001b[0m *******************************************************************************\n",
      "  \u001b[31m   \u001b[0m \n",
      "  \u001b[31m   \u001b[0m \u001b[31m[end of output]\u001b[0m\n",
      "  \n",
      "  \u001b[1;35mnote\u001b[0m: This error originates from a subprocess, and is likely not a problem with pip.\n",
      "\u001b[?25h\u001b[1;31merror\u001b[0m: \u001b[1mmetadata-generation-failed\u001b[0m\n",
      "\n",
      "\u001b[31m×\u001b[0m Encountered error while generating package metadata.\n",
      "\u001b[31m╰─>\u001b[0m See above for output.\n",
      "\n",
      "\u001b[1;35mnote\u001b[0m: This is an issue with the package mentioned above, not pip.\n",
      "\u001b[1;36mhint\u001b[0m: See above for details.\n"
     ]
    }
   ],
   "source": [
    "!pip install --extra-index-url https://pypi.nvidia.com cuml-cu12"
   ]
  }
 ],
 "metadata": {
  "kernelspec": {
   "display_name": ".venv",
   "language": "python",
   "name": "python3"
  },
  "language_info": {
   "codemirror_mode": {
    "name": "ipython",
    "version": 3
   },
   "file_extension": ".py",
   "mimetype": "text/x-python",
   "name": "python",
   "nbconvert_exporter": "python",
   "pygments_lexer": "ipython3",
   "version": "3.12.3"
  }
 },
 "nbformat": 4,
 "nbformat_minor": 2
}
