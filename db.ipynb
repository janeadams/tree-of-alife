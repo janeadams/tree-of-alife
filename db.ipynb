{
 "cells": [
  {
   "cell_type": "code",
   "execution_count": 7,
   "metadata": {},
   "outputs": [],
   "source": [
    "%autoreload 2\n",
    "from tqdm import tqdm\n",
    "import os\n",
    "import pickle\n",
    "import plotly.express as px\n",
    "from utils.eda import *\n",
    "from utils.lineage import *\n",
    "from tinydb import table, TinyDB, Query, where"
   ]
  },
  {
   "cell_type": "code",
   "execution_count": 8,
   "metadata": {},
   "outputs": [],
   "source": [
    "def find_longest_paths(df):\n",
    "    print('Finding longest paths...')\n",
    "\n",
    "    pkl_path = 'pickles/longest_paths.pkl'\n",
    "\n",
    "    #if os.path.exists(pkl_path):\n",
    "        #print('Loading from pickle...')\n",
    "        #with open(pkl_path, 'rb') as f:\n",
    "            #longest_path = pickle.load(f)\n",
    "        #return longest_path\n",
    "\n",
    "    G = compute_network(df)\n",
    "\n",
    "    # Perform topological sort\n",
    "    topo_order = list(nx.topological_sort(G))\n",
    "    \n",
    "    # Initialize a dictionary to store the longest path length for each node\n",
    "    longest_paths = {node: (0, []) for node in G.nodes}\n",
    "\n",
    "    os.makedirs('data/paths', exist_ok=True)\n",
    "    \n",
    "    # Process nodes in topological order\n",
    "    for node in tqdm(topo_order):\n",
    "        current_length, current_path = longest_paths[node]\n",
    "        for successor in G.successors(node):\n",
    "            successor_length, successor_path = longest_paths[successor]\n",
    "            new_length = current_length + 1\n",
    "            if new_length > successor_length:\n",
    "                longest_paths[successor] = (new_length, current_path + [successor])\n",
    "\n",
    "        with open(f'data/paths/{node}.pkl', 'wb') as f:\n",
    "            pickle.dump(current_path + [successor], f)\n",
    "        \n",
    "\n",
    "    #with open('longest_paths.pkl', 'wb') as f:\n",
    "        #pickle.dump(longest_paths, f)\n",
    "    return #longest_paths"
   ]
  },
  {
   "cell_type": "code",
   "execution_count": 10,
   "metadata": {},
   "outputs": [
    {
     "name": "stdout",
     "output_type": "stream",
     "text": [
      "Loading sample of size all...\n",
      "Computing network...\n",
      "Finding longest paths...\n",
      "Loading cached lineage pickle.\n"
     ]
    },
    {
     "ename": "",
     "evalue": "",
     "output_type": "error",
     "traceback": [
      "\u001b[1;31mThe Kernel crashed while executing code in the current cell or a previous cell. \n",
      "\u001b[1;31mPlease review the code in the cell(s) to identify a possible cause of the failure. \n",
      "\u001b[1;31mClick <a href='https://aka.ms/vscodeJupyterKernelCrash'>here</a> for more info. \n",
      "\u001b[1;31mView Jupyter <a href='command:jupyter.viewOutput'>log</a> for further details."
     ]
    }
   ],
   "source": [
    "df_filepath = 'data/longest_paths.csv'\n",
    "if os.path.exists(df_filepath):\n",
    "    df = pd.read_csv(df_filepath)\n",
    "else:\n",
    "    df = load_sample('all')\n",
    "    df.head(5)\n",
    "    print('Computing network...')\n",
    "    longest_paths = find_longest_paths(df)\n",
    "    df['path_length'] = df['ID'].map(lambda x: longest_paths[x][0])\n",
    "    df.to_csv('data/longest_paths.csv', index=False)\n",
    "    \n",
    "longest_paths = find_longest_paths(df)\n",
    "df.sort_values('path_length', ascending=False).head(10)\n",
    "px.histogram(df, x='path_length', nbins=100, log_y=True, title='Distribution of Path Lengths').show()"
   ]
  },
  {
   "cell_type": "code",
   "execution_count": null,
   "metadata": {},
   "outputs": [],
   "source": [
    "def assign_coordinates(df):\n",
    "\n",
    "    # Get the top 20% of the df by path length\n",
    "    df = df.head(int(0.2 * len(df)))\n",
    "\n",
    "    # Find the central path (longest path)\n",
    "    def lookup_path(node):\n",
    "        with open(f'data/paths/{node}.pkl', 'rb') as f:\n",
    "            return pickle.load(f)\n",
    "\n",
    "    _, central_path = lookup_path(df.iloc[0]['ID'])\n",
    "    num_nodes = len(central_path)\n",
    "    \n",
    "    # Assign coordinates to the central path\n",
    "    coordinates = {}\n",
    "    x_center = 0\n",
    "    z_center = 0\n",
    "    for i, node in enumerate(central_path):\n",
    "        coordinates[node] = (x_center, df.loc[df['ID'] == node, 'created'].values[0], z_center)\n",
    "    \n",
    "    # Splay out the branches using an L-system inspired approach\n",
    "    angle_increment = np.pi / 4\n",
    "    for _, path in longest_paths[1:]:\n",
    "        angle = 0\n",
    "        for node in path:\n",
    "            if node not in coordinates:\n",
    "                parent = next(pred for pred in G.predecessors(node) if pred in coordinates)\n",
    "                px, py, pz = coordinates[parent]\n",
    "                distance = 1  # Distance between nodes (can be adjusted)\n",
    "                x = px + distance * np.cos(angle)\n",
    "                z = pz + distance * np.sin(angle)\n",
    "                y = df.loc[df['ID'] == node, 'created'].values[0]\n",
    "                coordinates[node] = (x, y, z)\n",
    "                angle += angle_increment\n",
    "    \n",
    "    # Put coordinates back into the DataFrame\n",
    "    df['x'] = df['ID'].map(lambda x: coordinates[x][0])\n",
    "    df['y'] = df['ID'].map(lambda x: coordinates[x][1])\n",
    "    df['z'] = df['ID'].map(lambda x: coordinates[x][2])\n",
    "\n",
    "    df.to_csv('data/coordinates.csv', index=False)\n",
    "    \n",
    "    return df"
   ]
  },
  {
   "cell_type": "code",
   "execution_count": null,
   "metadata": {},
   "outputs": [
    {
     "ename": "FileNotFoundError",
     "evalue": "[Errno 2] No such file or directory: 'data/paths/355.0.pkl'",
     "output_type": "error",
     "traceback": [
      "\u001b[0;31m---------------------------------------------------------------------------\u001b[0m",
      "\u001b[0;31mFileNotFoundError\u001b[0m                         Traceback (most recent call last)",
      "Cell \u001b[0;32mIn[6], line 1\u001b[0m\n\u001b[0;32m----> 1\u001b[0m df \u001b[38;5;241m=\u001b[39m \u001b[43massign_coordinates\u001b[49m\u001b[43m(\u001b[49m\u001b[43mdf\u001b[49m\u001b[43m)\u001b[49m\n\u001b[1;32m      2\u001b[0m df\n",
      "Cell \u001b[0;32mIn[5], line 11\u001b[0m, in \u001b[0;36massign_coordinates\u001b[0;34m(df)\u001b[0m\n\u001b[1;32m      8\u001b[0m     \u001b[38;5;28;01mwith\u001b[39;00m \u001b[38;5;28mopen\u001b[39m(\u001b[38;5;124mf\u001b[39m\u001b[38;5;124m'\u001b[39m\u001b[38;5;124mdata/paths/\u001b[39m\u001b[38;5;132;01m{\u001b[39;00mnode\u001b[38;5;132;01m}\u001b[39;00m\u001b[38;5;124m.pkl\u001b[39m\u001b[38;5;124m'\u001b[39m, \u001b[38;5;124m'\u001b[39m\u001b[38;5;124mrb\u001b[39m\u001b[38;5;124m'\u001b[39m) \u001b[38;5;28;01mas\u001b[39;00m f:\n\u001b[1;32m      9\u001b[0m         \u001b[38;5;28;01mreturn\u001b[39;00m pickle\u001b[38;5;241m.\u001b[39mload(f)\n\u001b[0;32m---> 11\u001b[0m _, central_path \u001b[38;5;241m=\u001b[39m \u001b[43mlookup_path\u001b[49m\u001b[43m(\u001b[49m\u001b[43mdf\u001b[49m\u001b[38;5;241;43m.\u001b[39;49m\u001b[43miloc\u001b[49m\u001b[43m[\u001b[49m\u001b[38;5;241;43m0\u001b[39;49m\u001b[43m]\u001b[49m\u001b[43m[\u001b[49m\u001b[38;5;124;43m'\u001b[39;49m\u001b[38;5;124;43mID\u001b[39;49m\u001b[38;5;124;43m'\u001b[39;49m\u001b[43m]\u001b[49m\u001b[43m)\u001b[49m\n\u001b[1;32m     12\u001b[0m num_nodes \u001b[38;5;241m=\u001b[39m \u001b[38;5;28mlen\u001b[39m(central_path)\n\u001b[1;32m     14\u001b[0m \u001b[38;5;66;03m# Assign coordinates to the central path\u001b[39;00m\n",
      "Cell \u001b[0;32mIn[5], line 8\u001b[0m, in \u001b[0;36massign_coordinates.<locals>.lookup_path\u001b[0;34m(node)\u001b[0m\n\u001b[1;32m      7\u001b[0m \u001b[38;5;28;01mdef\u001b[39;00m \u001b[38;5;21mlookup_path\u001b[39m(node):\n\u001b[0;32m----> 8\u001b[0m     \u001b[38;5;28;01mwith\u001b[39;00m \u001b[38;5;28;43mopen\u001b[39;49m\u001b[43m(\u001b[49m\u001b[38;5;124;43mf\u001b[39;49m\u001b[38;5;124;43m'\u001b[39;49m\u001b[38;5;124;43mdata/paths/\u001b[39;49m\u001b[38;5;132;43;01m{\u001b[39;49;00m\u001b[43mnode\u001b[49m\u001b[38;5;132;43;01m}\u001b[39;49;00m\u001b[38;5;124;43m.pkl\u001b[39;49m\u001b[38;5;124;43m'\u001b[39;49m\u001b[43m,\u001b[49m\u001b[43m \u001b[49m\u001b[38;5;124;43m'\u001b[39;49m\u001b[38;5;124;43mrb\u001b[39;49m\u001b[38;5;124;43m'\u001b[39;49m\u001b[43m)\u001b[49m \u001b[38;5;28;01mas\u001b[39;00m f:\n\u001b[1;32m      9\u001b[0m         \u001b[38;5;28;01mreturn\u001b[39;00m pickle\u001b[38;5;241m.\u001b[39mload(f)\n",
      "File \u001b[0;32m~/projects/tree-of-alife/.venv/lib/python3.12/site-packages/IPython/core/interactiveshell.py:324\u001b[0m, in \u001b[0;36m_modified_open\u001b[0;34m(file, *args, **kwargs)\u001b[0m\n\u001b[1;32m    317\u001b[0m \u001b[38;5;28;01mif\u001b[39;00m file \u001b[38;5;129;01min\u001b[39;00m {\u001b[38;5;241m0\u001b[39m, \u001b[38;5;241m1\u001b[39m, \u001b[38;5;241m2\u001b[39m}:\n\u001b[1;32m    318\u001b[0m     \u001b[38;5;28;01mraise\u001b[39;00m \u001b[38;5;167;01mValueError\u001b[39;00m(\n\u001b[1;32m    319\u001b[0m         \u001b[38;5;124mf\u001b[39m\u001b[38;5;124m\"\u001b[39m\u001b[38;5;124mIPython won\u001b[39m\u001b[38;5;124m'\u001b[39m\u001b[38;5;124mt let you open fd=\u001b[39m\u001b[38;5;132;01m{\u001b[39;00mfile\u001b[38;5;132;01m}\u001b[39;00m\u001b[38;5;124m by default \u001b[39m\u001b[38;5;124m\"\u001b[39m\n\u001b[1;32m    320\u001b[0m         \u001b[38;5;124m\"\u001b[39m\u001b[38;5;124mas it is likely to crash IPython. If you know what you are doing, \u001b[39m\u001b[38;5;124m\"\u001b[39m\n\u001b[1;32m    321\u001b[0m         \u001b[38;5;124m\"\u001b[39m\u001b[38;5;124myou can use builtins\u001b[39m\u001b[38;5;124m'\u001b[39m\u001b[38;5;124m open.\u001b[39m\u001b[38;5;124m\"\u001b[39m\n\u001b[1;32m    322\u001b[0m     )\n\u001b[0;32m--> 324\u001b[0m \u001b[38;5;28;01mreturn\u001b[39;00m \u001b[43mio_open\u001b[49m\u001b[43m(\u001b[49m\u001b[43mfile\u001b[49m\u001b[43m,\u001b[49m\u001b[43m \u001b[49m\u001b[38;5;241;43m*\u001b[39;49m\u001b[43margs\u001b[49m\u001b[43m,\u001b[49m\u001b[43m \u001b[49m\u001b[38;5;241;43m*\u001b[39;49m\u001b[38;5;241;43m*\u001b[39;49m\u001b[43mkwargs\u001b[49m\u001b[43m)\u001b[49m\n",
      "\u001b[0;31mFileNotFoundError\u001b[0m: [Errno 2] No such file or directory: 'data/paths/355.0.pkl'"
     ]
    }
   ],
   "source": [
    "assign_coordinates(df)"
   ]
  }
 ],
 "metadata": {
  "kernelspec": {
   "display_name": ".venv",
   "language": "python",
   "name": "python3"
  },
  "language_info": {
   "codemirror_mode": {
    "name": "ipython",
    "version": 3
   },
   "file_extension": ".py",
   "mimetype": "text/x-python",
   "name": "python",
   "nbconvert_exporter": "python",
   "pygments_lexer": "ipython3",
   "version": "3.12.3"
  }
 },
 "nbformat": 4,
 "nbformat_minor": 2
}
